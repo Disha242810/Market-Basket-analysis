{
  "nbformat": 4,
  "nbformat_minor": 0,
  "metadata": {
    "colab": {
      "provenance": []
    },
    "kernelspec": {
      "name": "python3",
      "display_name": "Python 3"
    },
    "language_info": {
      "name": "python"
    }
  },
  "cells": [
    {
      "cell_type": "code",
      "execution_count": 9,
      "metadata": {
        "colab": {
          "base_uri": "https://localhost:8080/"
        },
        "id": "ieqvuizQSjth",
        "outputId": "f711caff-5b7f-4866-ec77-ca8076f11cc5"
      },
      "outputs": [
        {
          "output_type": "stream",
          "name": "stdout",
          "text": [
            "frequent_itemsets is empty: True\n",
            "No frequent itemsets found. Try lowering min_support further or reviewing your data.\n"
          ]
        }
      ],
      "source": [
        "# Step 1: Import necessary libraries\n",
        "import pandas as pd\n",
        "from mlxtend.preprocessing import TransactionEncoder\n",
        "from mlxtend.frequent_patterns import apriori, association_rules\n",
        "\n",
        "\n",
        "# Step 2: Load the dataset\n",
        "file_path = \"/content/10. Market Basket Analysis.csv\"  # Replace with your path if different\n",
        "data = pd.read_csv(file_path)\n",
        "\n",
        "# Step 3: Prepare the data - simulate transactions\n",
        "# In real scenario, we’d have user_id or order_id mapping. Let's simulate transactions by treating each 'aisle_id' as a customer’s basket\n",
        "transactions = data.groupby('aisle_id')['aisle'].apply(list).tolist()\n",
        "\n",
        "# Step 4: One-hot encode the transactions\n",
        "te = TransactionEncoder()\n",
        "te_data = te.fit_transform(transactions)\n",
        "df = pd.DataFrame(te_data, columns=te.columns_)\n",
        "\n",
        "# Step 5: Apply the Apriori algorithm\n",
        "frequent_itemsets = apriori(df, min_support=0.01, use_colnames=True)\n",
        "# Check if frequent_itemsets is empty\n",
        "print(f\"frequent_itemsets is empty: {frequent_itemsets.empty}\")\n",
        "if frequent_itemsets.empty:\n",
        "    print(\"No frequent itemsets found. Try lowering min_support further or reviewing your data.\")\n",
        "else:\n",
        "    # Step 6: Generate Association Rules\n",
        "    rules = association_rules(frequent_itemsets, metric=\"lift\", min_threshold=1)\n",
        "\n",
        "    # Step 7: Display the results\n",
        "    print(\"Frequent Itemsets:\\n\", frequent_itemsets)\n",
        "    print(\"\\nAssociation Rules:\\n\", rules[['antecedents', 'consequents', 'support', 'confidence', 'lift']])\n"
      ]
    }
  ]
}